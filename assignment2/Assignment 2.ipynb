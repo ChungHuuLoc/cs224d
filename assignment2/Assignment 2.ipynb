{
 "cells": [
  {
   "cell_type": "markdown",
   "metadata": {
    "collapsed": true
   },
   "source": [
    "# Tensorflow Softmax\n",
    "\n",
    "## Role of placeholder\n",
    "\n",
    "The placeholder allows you to feed data into the computation graph by way of feed dictionaries. This gives you an entry point from your non-TensorFlow code in Python so you can run a graph on new inputs.\n",
    "\n",
    "## Automatic Differentiation\n",
    "\n",
    "TensorFlow's automatic differentiation obviates the need for explicit gradient definition because it decomposes the graph into distinct `Op` components, each of which it has defined the gradient for. It then applies the chain rule to the graph, computes all relevant gradients, and runs a special training `Op` apply updates to the affected `Tensor` components."
   ]
  },
  {
   "cell_type": "markdown",
   "metadata": {},
   "source": [
    "# Deep NER\n",
    "\n",
    "Named Entity Recognition involves predicting one of 4 classes (Person, Organization, Location, Miscellaneous) or a 5th null class (not a named entity) - here we are modeling it using a neural network.\n",
    "\n",
    "## Gradients\n",
    "\n",
    "### Base Model\n",
    "\n",
    "The model is a 1-hidden layer neural net that classifies whether the center word is a certain class based on a small window. The windows is represented as a concatenation of 1-hot vectors that share an embedding lookup and pass through a hidden layer and softmax output layer.\n",
    "\n",
    "$x^{(t)} = [x_{t-1} L, x_t L, x_{t+1} L] \\in \\Real^{3d}$\n",
    "\n",
    "$L \\in R^{\\|V| \\times d}$ is an embedding matrix\n",
    "\n",
    "$h = \\tanh(x^{(t)} W + b_1)$\n",
    "\n",
    "$\\hat y = softmax(h U + b_2)$\n",
    "\n",
    "$J(\\theta) = CE(y, \\hat y) = - \\sum_{i = 1}^5 y_i \\log \\hat y_i$\n",
    "\n",
    "The cost is the sum cross entropy cost over all 4 classes plus the 5th null class, which turns out to have the most examples."
   ]
  }
 ],
 "metadata": {
  "anaconda-cloud": {},
  "kernelspec": {
   "display_name": "Python [Root]",
   "language": "python",
   "name": "Python [Root]"
  },
  "language_info": {
   "codemirror_mode": {
    "name": "ipython",
    "version": 3
   },
   "file_extension": ".py",
   "mimetype": "text/x-python",
   "name": "python",
   "nbconvert_exporter": "python",
   "pygments_lexer": "ipython3",
   "version": "3.5.1"
  }
 },
 "nbformat": 4,
 "nbformat_minor": 0
}
