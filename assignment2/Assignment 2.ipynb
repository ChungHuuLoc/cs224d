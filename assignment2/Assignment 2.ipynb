{
 "cells": [
  {
   "cell_type": "markdown",
   "metadata": {
    "collapsed": true
   },
   "source": [
    "# Tensorflow Softmax\n",
    "\n",
    "## Role of placeholder\n",
    "\n",
    "The placeholder allows you to feed data into the computation graph by way of feed dictionaries. This gives you an entry point from your non-TensorFlow code in Python so you can run a graph on new inputs.\n",
    "\n",
    "## Automatic Differentiation\n",
    "\n",
    "TensorFlow's automatic differentiation obviates the need for explicit gradient definition because it decomposes the graph into distinct `Op` components, each of which it has defined the gradient for. It then applies the chain rule to the graph, computes all relevant gradients, and runs a special training `Op` apply updates to the affected `Tensor` components."
   ]
  }
 ],
 "metadata": {
  "anaconda-cloud": {},
  "kernelspec": {
   "display_name": "Python [Root]",
   "language": "python",
   "name": "Python [Root]"
  },
  "language_info": {
   "codemirror_mode": {
    "name": "ipython",
    "version": 3
   },
   "file_extension": ".py",
   "mimetype": "text/x-python",
   "name": "python",
   "nbconvert_exporter": "python",
   "pygments_lexer": "ipython3",
   "version": "3.5.1"
  }
 },
 "nbformat": 4,
 "nbformat_minor": 0
}
