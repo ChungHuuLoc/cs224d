{
 "cells": [
  {
   "cell_type": "markdown",
   "metadata": {
    "collapsed": true
   },
   "source": [
    "# Softmax\n",
    "\n",
    "Prove that softmax is invariant to constant offsets in the input\n",
    "\n",
    "$softmax(x) = softmax(x + c)$\n",
    "\n",
    "$softmax(x)_i = \\frac{e^{x_i}}{\\sum_j e^{x_j}}$\n",
    "\n",
    "*Proof.* $\\forall i \\in 1 ≤ i ≤ dim(x)$\n",
    "\n",
    "$softmax(x + c)_i = \\frac{e^{x_i + c}}{\\sum_j e^{x_j + c}}$\n",
    "\n",
    "$=\\frac{e^{x_i} e^c}{\\sum_j e^{x_j} e^c}$\n",
    "\n",
    "$=\\frac{e^c e^{x_i}}{e^c \\sum_j e^{x_j}}$\n",
    "\n",
    "$=\\frac{e^{x_i}}{\\sum_j e^{x_j}}$\n",
    "\n",
    "$=softmax(x)$"
   ]
  },
  {
   "cell_type": "markdown",
   "metadata": {},
   "source": [
    "# Derive Sigmoid\n",
    "\n",
    "$\\sigma(x) = \\frac{1}{1 + e^{-x}}$\n",
    "\n",
    "$z = 1 + e^{-x}$\n",
    "\n",
    "$\\frac{d}{dx} \\sigma(x) = \\frac{d \\sigma}{dz} \\frac{1}{z} \\cdot \\frac{dz}{dx} z$\n",
    "\n",
    "$=\\frac{1}{z^2} \\frac{dz}{dx} z$\n",
    "\n",
    "$=\\frac{1}{z^2} \\cdot \\frac{dx}{dz} 1 + e^{-x}$\n",
    "\n",
    "$=\\frac{1}{z^2} \\cdot - e^{-x}$\n",
    "\n",
    "$=\\frac{-e^{-x}}{-(1 + e^{-x})^2}$\n",
    "\n",
    "$=\\frac{1}{1 + e^{-x}} \\frac{e^{-x}}{1 + e^{-x}}$\n",
    "\n",
    "$=\\sigma(x) \\frac{e^{-x}}{1 + e^{-x}}$\n",
    "\n",
    "$=\\sigma(x) \\frac{1 + e^{-x} - 1}{1 + e^{-x}}$\n",
    "\n",
    "$=\\sigma(x) \\left(\\frac{1 + e^{-x}}{1 + e^{-x}} - \\frac{1}{1 + e^{-x}} \\right)$\n",
    "\n",
    "$=\\sigma(x) \\left(1 - \\frac{1}{1 + e^{-x}} \\right)$\n",
    "\n",
    "$=\\sigma(x) (1 - \\sigma(x))$"
   ]
  },
  {
   "cell_type": "code",
   "execution_count": null,
   "metadata": {
    "collapsed": true
   },
   "outputs": [],
   "source": []
  }
 ],
 "metadata": {
  "kernelspec": {
   "display_name": "Python [Root]",
   "language": "python",
   "name": "Python [Root]"
  },
  "language_info": {
   "codemirror_mode": {
    "name": "ipython",
    "version": 3
   },
   "file_extension": ".py",
   "mimetype": "text/x-python",
   "name": "python",
   "nbconvert_exporter": "python",
   "pygments_lexer": "ipython3",
   "version": "3.5.1"
  }
 },
 "nbformat": 4,
 "nbformat_minor": 0
}
